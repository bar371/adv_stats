{
 "cells": [
  {
   "cell_type": "markdown",
   "id": "30d5e7d5",
   "metadata": {},
   "source": [
    "#### Advanced Statistics for Data Science (Spring 2022)\n",
    "# Home Assignment 2\n",
    "#### Topics:\n",
    "- Probability review\n",
    "- Distributional Properties of the Linear Model\n",
    "\n",
    "\n",
    "#### Due: 05/04/2022 by 18:30\n",
    "\n",
    "#### Instructions:\n",
    "- Write your name, Student ID, and date in the cell below. \n",
    "- Submit a copy of this notebook with code filled in the relevant places as the solution of coding excercises.\n",
    "- For theoretic excercises, you can either write your solution in the notebook using $\\LaTeX$ or submit additional notes.\n",
    "\n",
    "<hr>\n",
    "<hr>"
   ]
  },
  {
   "cell_type": "markdown",
   "id": "2aaa0812",
   "metadata": {},
   "source": [
    "\n",
    "**Name**: \n",
    "\n",
    "**Student ID**:\n",
    "\n",
    "**Date**:\n",
    "\n",
    "$\n",
    "\\newcommand{\\Id}{{\\mathbf{I}}}  \n",
    "\\newcommand{\\SSE}{\\mathsf{SSE}}\n",
    "\\newcommand{\\SSR}{\\mathsf{SSR}}\n",
    "\\newcommand{\\MSE}{\\mathsf{MSE}}\n",
    "\\newcommand{\\simiid}{\\overset{iid}{\\sim}}\n",
    "\\newcommand{\\ex}{\\mathbb E}\n",
    "\\newcommand{\\var}{\\mathrm{Var}}\n",
    "\\newcommand{\\Cov}[2]{{\\mathrm{Cov}  \\left(#1, #2 \\right)}}\n",
    "\\newcommand{\\one}[1]{\\mathbf 1 {\\left\\{#1\\right\\}}}\n",
    "\\newcommand{\\SE}[1]{\\mathrm{SE} \\left[#1\\right]}\n",
    "\\newcommand{\\reals}{\\mathbb R}\n",
    "\\newcommand{\\Ncal}{\\mathcal N}\n",
    "\\newcommand{\\abs}[1]{\\ensuremath{\\left\\vert#1\\right\\vert}}\n",
    "\\newcommand{\\rank}{\\operatorname{rank}}\n",
    "\\newcommand{\\tr}{\\operatorname{Tr}}\n",
    "\\newcommand{\\diag}{\\operatorname{diag}}\n",
    "\\newcommand{\\sign}{\\operatorname{sign}}\n",
    "$\n"
   ]
  },
  {
   "cell_type": "markdown",
   "id": "1b8ad36c",
   "metadata": {},
   "source": [
    "<hr>\n",
    "<hr>"
   ]
  },
  {
   "cell_type": "markdown",
   "id": "4f027e2a",
   "metadata": {},
   "source": [
    "## Problem 1 (The Normal Distribution)\n",
    "\n",
    "1. Let $Z = (Z_1,\\ldots,Z_9)^\\top \\sim \\Ncal(\\mu, I_9)$ where $\\mu \\in \\reals^9$$. Show that $Z_1+Z_2+Z_3+Z_4$ is independent of $Z_1 + Z_2 - Z_3 - Z_4 - Z_5$.\n",
    "\n",
    "2. Suppose that $Z \\sim \\Ncal(\\mu, I_n)$ and let $X = AZ$ and $Y = BZ$ for non-random matrices $A$ and $B$. Find conditions on $A$ and $B$ such that $X$ independent of $Y$.\n",
    "\n",
    "3. Suppose that $Z_{ij} \\simiid \\Ncal(0, 1)$ for $i= 1,\\ldots,I$ and $j=1,\\ldots,J$. Define \n",
    "$$\n",
    "\\bar{Z}_{i\\bullet} := \\frac{1}{J} \\sum_{j=1}^J Z_{ij},\\qquad \\bar{Z}_{\\bullet j} := \\frac{1}{I} \\sum_{i=1}^I Z_{ij}, \\qquad \\bar{Z}_{\\bullet \\bullet} := \\frac{1}{IJ} \\sum_{j=1}^J \\sum_{i=1}^I Z_{ij}\n",
    "$$\n",
    "    - Is $\\bar{Z}_{i\\bullet}$ independent of $\\bar{Z}_{\\bullet j}$ ?\n",
    "    - Is $\\bar{Z}_{1\\bullet}$ independent of $\\bar{Z}_{2\\bullet}$ ?\n",
    "    - Is $\\bar{Z}_{i\\bullet} - \\bar{Z}_{\\bullet \\bullet}$ independent of $\\bar{Z}_{i\\bullet}$ ?\n",
    "\n",
    "4. Consider the variance-covariance matrix \n",
    "$$\n",
    "\\bar{\\Sigma} = \\begin{bmatrix} 1 & .25 \\\\\n",
    ".25 & 1\n",
    "\\end{bmatrix}\n",
    "$$\n",
    "Using as many samples as you need from the standard normal distribution (e.g. ``numpy.random.randn``), generate $N = 1000$ independent samples from the bivaraite normal distribution $\\Ncal(0, \\bar{\\Sigma})$ (you'll get $N$ pairs). Illustrate these samples over a sactter plot. \n",
    "\n",
    "5. Consider the region in $\\reals^2$:\n",
    "$$\n",
    "A = \\{ (x,y)\\,: 0 \\leq x \\leq 1, 0 \\leq y \\leq 2x\\}\n",
    "$$\n",
    "For $(X_1, X_2) \\sim \\Ncal(0, \\bar{\\Sigma})$, estimate \n",
    "$$\n",
    "\\Pr\\left[ (X_1, X_2) \\in A \\right]\n",
    "$$\n",
    "in two ways: \n",
    "    1. By evaluating the integral over the Gaussian density function\n",
    "    2. By estimating the fraction of samples in 4 that falls in the region $A$\n"
   ]
  },
  {
   "cell_type": "markdown",
   "id": "f24e46e0",
   "metadata": {},
   "source": [
    "### 1.3.1 \n",
    "we want to show that $\\bar{Z}_{i\\bullet}$ independent of $\\bar{Z}_{\\bullet j}$. \n",
    "\n",
    "This could be done by showing that $ cov(\\bar{Z}_{i\\bullet},  \\bar{Z}_{\\bullet j}) = 0 $\n",
    " \n",
    " \n",
    "$$ \n",
    "  cov(\\bar{Z}_{i\\bullet},  \\bar{Z}_{\\bullet j}) = \\\\ \n",
    "  E[\\bar{Z}_{i\\bullet},  \\bar{Z}_{\\bullet j}] -  E[\\bar{Z}_{i\\bullet}]E[\\bar{Z}_{\\bullet j}] = \\\\\n",
    "  E[\\frac{1}{J} \\sum_{j=1}^J Z_{ij}\\frac{1}{I} \\sum_{i=1}^I Z_{ij}] -  E[\\frac{1}{J} \\sum_{j=1}^J Z_{ij}]E[\\frac{1}{I} \\sum_{i=1}^I Z_{ij}] = \\\\\n",
    "  \\frac{1}{J} \\cdot \\frac{1}{I} \\cdot E[ \\sum_{j=1}^J Z_{ij} \\sum_{i=1}^I Z_{ij}] \n",
    "$$ \n"
   ]
  },
  {
   "cell_type": "markdown",
   "id": "585181cf",
   "metadata": {},
   "source": [
    "### 1. We can show that the COV between the sampled RVs is 0.\n",
    "\n",
    "From the defenition of the Covariance matrix we know that $\\forall i\\neq j $      $cov(Z_i,Z_j) = 0 $\n",
    "And that\n",
    "\n",
    "\n",
    "$$ \\forall i cov(Z_i, Z_i) = var(Z_i) = 1. $$\n",
    "\n",
    "Let $$ X = Z_1+Z_2+Z_3+Z_4 $$ and $$ Y = Z_1+Z_2-Z_3-Z_4-Z_5$$\n",
    "\n",
    "Then:\n",
    "$$ cov(X,Y) = E[XY] -E[X]E[Y] = E[(Z_1+Z_2+Z_3+Z_4)(Z_1+Z_2-Z_3-Z_4-Z_5)] - E[(Z_1+Z_2+Z_3+Z_4)]E[(Z_1+Z_2-Z_3-Z_4-Z_5)] $$  =\n",
    "\n",
    "$$ E[Z_1Z_1] + E[Z_1Z_2] - E[Z_1Z_3] - E[Z_1Z_4] - E[Z_1Z_5] \\\\\n",
    "+ E[Z_2Z_1] + E[Z_2Z_2] - E[Z_2Z_3] - E[Z_2Z_4]  - E[Z_2Z_5] \\\\\n",
    "+ E[Z_3Z_1] + E[Z_3Z_2] - E[Z_3Z_3] - E[Z_3Z_4] - E[Z_3Z_5] \\\\\n",
    "+ E[Z_4Z_1] + E[Z_4Z_2] - E[Z_4Z_3] - E[Z_4Z_4] - E[Z_4Z_5] \\\\\n",
    "- E[Z_1]E[Z_1] - E[Z_1]E[Z_2] + E[Z_1]E[Z_3] + E[Z_1]E[Z_4] + E[Z_1]E[Z_5] \\\\\n",
    "- E[Z_2]E[Z_1] - E[Z_2]E[Z_2] + E[Z_2]E[Z_3] + E[Z_2]E[Z_4] + E[Z_2]E[Z_5] \\\\ \n",
    "- E[Z_3]E[Z_1] - E[Z_3]E[Z_2] + E[Z_3]E[Z_3] + E[Z_3]E[Z_4] + E[Z_3]E[Z_5] \\\\ \n",
    "- E[Z_4]E[Z_1] - E[Z_4]E[Z_2] + E[Z_4]E[Z_3] + E[Z_4]E[Z_4] + E[Z_4]E[Z_5] \\\\\n",
    "$$ \n",
    "\n",
    "=\n",
    "\n",
    "$$  \n",
    " cov(Z_1,Z_1) + cov(Z_1,Z_2) - cov(Z_1,Z_3) - cov(Z_1,Z_4) - cov(Z_1,Z_5) \\\\\n",
    " + cov(Z_2,Z_1) + cov(Z_2,Z_2) - cov(Z_2,Z_3) - cov(Z_2,Z_4) - cov(Z_2,Z_5) \\\\ \n",
    " + cov(Z_3,Z_1) + cov(Z_3,Z_2) - cov(Z_3,Z_3) - cov(Z_3,Z_4) - cov(Z_3,Z_5) \\\\\n",
    " + cov(Z_4,Z_1) + cov(Z_4,Z_2) - cov(Z_4,Z_3) - cov(Z_4,Z_4) - cov(Z_4,Z_5)\\\\ \n",
    "$$\n",
    "\n",
    "= \n",
    "\n",
    "$$ 1 + 0 - 0 - 0 - 0 \\\\ \n",
    "+ 0 +  1 - 0 - 0 - 0 \\\\ \n",
    "+ 0 + 0 - 1 - 0 - 0  \\\\ \n",
    "+ 0 + 0 + 0 - 1 - 0 \\\\ \n",
    "$$\n",
    " \n",
    "= \n",
    "\n",
    "$$ 2 - 2 = 0 $$\n",
    "\n",
    "Thus we have shown independence."
   ]
  },
  {
   "cell_type": "markdown",
   "id": "6ab83667",
   "metadata": {},
   "source": [
    "### 2.\n",
    "\n",
    "$ Let  z \\sim \\Ncal\\ (\\mu,I) $\n",
    "and $x = Az$ and $y = Bz$ Then:\n",
    "\n",
    "$$\n",
    " x \\sim \\Ncal (A\\mu, AA^T) \\\\\n",
    " y \\sim \\Ncal (B\\mu, BB^T)\n",
    "$$\n",
    "\n",
    "if each of the variables $x_i$ are indpednent of each of the variable $y_j$, then x will be independent of y. \n",
    "To show this we can construct the covariance matrix:\n",
    "\n",
    "\n",
    "$$\n",
    "cov(x,y) = \\\\\n",
    "E[xy^T] - E[x]E[y^T] =  \\\\\n",
    "E[Azz^TB^T] - E[Az]E[z^TB^T] = \\\\\n",
    "AE[zz^T]B^T - AE[z]E[z^T]B^T = \\\\\n",
    "A(E[zz^T] - E[z][z^T])B^T = \\\\ \n",
    "Acov(z,z)B^T = \\\\\n",
    "AIB^T = AB^T \n",
    "$$\n",
    "\n",
    "Thus if $AB^T$ is a matrix of zeros then cov(x,y) is 0, meaning x is independent of y. "
   ]
  },
  {
   "cell_type": "markdown",
   "id": "96380a3a",
   "metadata": {},
   "source": [
    "### 3. \n"
   ]
  },
  {
   "cell_type": "markdown",
   "id": "2494881d",
   "metadata": {},
   "source": [
    "## Problem 2 (Conditional Distribution)\n",
    "$\\newcommand{\\ex}{\\mathbb E}$\n",
    "\n",
    "\n",
    "For\n",
    "$$\n",
    "\\begin{bmatrix}\n",
    "X \\\\\n",
    "Y \\\\\n",
    "Z \n",
    "\\end{bmatrix} \\sim \\Ncal\\left( \\begin{bmatrix} 1 \\\\\n",
    "2\\\\\n",
    "3\n",
    "\\end{bmatrix}, \\begin{bmatrix}\n",
    " 4 & 1 & 3 \\\\\n",
    " 1 & 2 & 3 \\\\\n",
    " 3 & 3 & 8\n",
    "\\end{bmatrix}\n",
    "\\right)\n",
    "$$\n",
    "find (numerically):\n",
    "1. The distribution of $X$ given that $Y = 1$.\n",
    "2. The joint distribution of $X$ and $Y$ given $Z = 1$.\n",
    "3. The distribution of $Y$ given that $Z = 2$ and $X = 3$.\n",
    "4. $Pr(Y \\in [-1,1] | Z=2, X=3)$\n",
    "<hr>\n",
    "<hr>"
   ]
  },
  {
   "cell_type": "markdown",
   "id": "51a9191d",
   "metadata": {},
   "source": []
  },
  {
   "cell_type": "markdown",
   "id": "37082b2f",
   "metadata": {},
   "source": [
    "## Problem 3 (Distributional Properties of Least Squares)\n",
    "Cosnider a least squares model with one predcitor $p=1$ without an intercept term, i.e. $y_i = \\beta x_i + \\epsilon_i$, $i=1,\\ldots,n$.\n",
    "1. Write the least squares solution $\\hat{\\beta} \\in \\mathbb R$ in terms of $x = (x_1,\\ldots,x_n)^\\top$ and $y = (y_1,\\ldots,y_n)^\\top$.\n",
    "2. With $\\hat{y}_i = \\hat{\\beta} x_i$ and $\\hat{\\epsilon}_i = y_i - \\hat{y}_i$, show that\n",
    " - $\\sum_{i=1}^n \\hat{y}_i \\hat{\\epsilon}_i = 0$\n",
    " - $\\|\\hat{\\epsilon}\\|^2 = \\|y\\|^2 -  \\|\\hat{y}\\|^2$\n",
    "3. Suppose that $\\epsilon_i \\sim N(0, 1)$. \n",
    " - What is the distribution of the random vector $[ \\hat{\\epsilon}~~ \\hat{y}]^\\top$?\n",
    " - What is the distribution of the random vector $[\\hat{y}~~ \\hat{\\beta}]^\\top$?\n",
    "4. Set $\\|\\epsilon\\|_{\\infty} := \\max_{i=1}^n |\\epsilon_i|$. What is $Pr( \\|\\hat{\\epsilon}\\|_{\\infty} > 2)$? is it larger or smaller than $Pr(\\|\\epsilon\\|_{\\infty}  > 2)$? (the point, we want to know if the predicted residuals tend to have less or more extreme values than the true ones)\n",
    "\n",
    "<hr>\n",
    "<hr>\n"
   ]
  },
  {
   "cell_type": "markdown",
   "id": "d0b9713c",
   "metadata": {},
   "source": [
    "## Problem 4 (Model fitting and t-Test)\n",
    "Cosnider the house prices dataset from the EDA notebook, which you can obtain from kaggle via:"
   ]
  },
  {
   "cell_type": "code",
   "execution_count": 1,
   "id": "43b5c34f",
   "metadata": {},
   "outputs": [
    {
     "name": "stdout",
     "output_type": "stream",
     "text": [
      "Downloading house-prices-advanced-regression-techniques.zip to C:\\BarDir\\Advanced_stats\\adv_stats\n",
      "\n"
     ]
    },
    {
     "name": "stderr",
     "output_type": "stream",
     "text": [
      "\n",
      "  0%|          | 0.00/199k [00:00<?, ?B/s]\n",
      "100%|##########| 199k/199k [00:00<00:00, 789kB/s]\n",
      "100%|##########| 199k/199k [00:00<00:00, 700kB/s]\n"
     ]
    }
   ],
   "source": [
    "!kaggle competitions download -c house-prices-advanced-regression-techniques\n",
    "# !mkdir house-prices\n",
    "# !unzip house-prices-advanced-regression-techniques.zip -d house-prices/"
   ]
  },
  {
   "cell_type": "markdown",
   "id": "f018395f",
   "metadata": {},
   "source": [
    "Only consider houses of lot size smaller than $15,000$ square feet, e.g. by using"
   ]
  },
  {
   "cell_type": "code",
   "execution_count": 2,
   "id": "7df6b5d9",
   "metadata": {},
   "outputs": [],
   "source": [
    "import pandas as pd\n",
    "data_raw = pd.read_csv(\"house-prices/train.csv\")\n",
    "data = data_raw[data_raw.LotArea < 15000]  # we focus on small lots"
   ]
  },
  {
   "cell_type": "markdown",
   "id": "f79e6667",
   "metadata": {},
   "source": [
    "Consider predicting ``SalePrice`` via a linear model with predictors:"
   ]
  },
  {
   "cell_type": "code",
   "execution_count": 28,
   "id": "53a9e5e4",
   "metadata": {},
   "outputs": [],
   "source": [
    "feat_set1 = ['LotArea',  'YearBuilt', 'YrSold', 'GarageCars',\n",
    "             'FullBath', 'TotalBsmtSF', 'GarageArea', 'OverallQual']\n",
    "feat_set_smaller = ['LotArea', 'YearBuilt', 'YrSold']"
   ]
  },
  {
   "cell_type": "markdown",
   "id": "69c2d27c",
   "metadata": {},
   "source": [
    "plus a constant. "
   ]
  },
  {
   "cell_type": "markdown",
   "id": "87d52785",
   "metadata": {},
   "source": [
    "1. Find the least squares estimate $\\hat{\\beta}$ of this model.\n",
    "2. Find $R^2$ of this model.\n",
    "3. For each $\\beta_j$, $j=1,\\ldots,9$, evaluate the $t$ statistic corresponding to testing \n",
    "$$\n",
    "H_{0j}\\,:\\, \\beta_j=0\n",
    "$$\n",
    "and its P-values (identify first the number of degrees of freedom). \n",
    "4. Which of these statistics exceeds the $0.975$-th quantile of the corresponding $t$ distribution and below the $0.025$-th quantile? (values exceeding theses quantiles are strong evidence against $H_{0j}$)\n",
    "5. Consider a smaller model involving only ``LotArea``,  ``YearBuilt``, ``YrSold`` as predictors. Find the least squares estimate of this smaller model and its sum of sqaures. Is this model provides a valid representation of the data compared to the original larger one? Answer your question by evaluating the relevant $F$ statistic and report on the F-test's P-value. \n",
    "\n",
    "<hr>\n",
    "<hr>"
   ]
  },
  {
   "cell_type": "code",
   "execution_count": 4,
   "id": "e1e579ba",
   "metadata": {},
   "outputs": [],
   "source": [
    "import statsmodels.api as sm\n",
    "import numpy as np\n",
    "import seaborn as sns\n",
    "from matplotlib import pyplot as plt\n",
    "import warnings\n",
    "warnings.simplefilter(action='ignore', category=FutureWarning)"
   ]
  },
  {
   "cell_type": "code",
   "execution_count": 29,
   "id": "64d2934c",
   "metadata": {},
   "outputs": [],
   "source": [
    "def find_least_squares(data, features):\n",
    "    df_hat = data.copy()\n",
    "    y = df_hat['SalePrice']\n",
    "    X = df_hat[features]\n",
    "    sm.add_constant(X)\n",
    "    ret = sm.OLS(y, X).fit()\n",
    "    df_hat['y_hat'] = (X.values @ ret.params)\n",
    "    sns.scatterplot(data=df_hat,x=df_hat.index, y='y_hat')\n",
    "    sns.scatterplot(data=df_hat,x=df_hat.index, y='SalePrice')\n",
    "    plt.title('response values y & y-hat scatterplot')\n",
    "    plt.xlabel('index')\n",
    "    plt.ylabel('SalePrice')\n",
    "    plt.show()\n",
    "    return df_hat, ret , y "
   ]
  },
  {
   "cell_type": "code",
   "execution_count": 6,
   "id": "d661cb9d",
   "metadata": {},
   "outputs": [],
   "source": [
    "def get_R2(df_hat, y):\n",
    "    y_hat = df_hat['y_hat'].values\n",
    "    y_mean = y.mean()\n",
    "    ss_tot = np.sum((y - y_mean)**2)\n",
    "    ss_fit = np.sum((y_hat - y_mean)**2)\n",
    "    ss_res = np.sum((y - y_hat)**2)\n",
    "    r2 = 1 - ss_res / ss_tot\n",
    "    y_mean, ss_tot, ss_fit, ss_res, r2\n",
    "\n",
    "    # from sklearn.metrics import r2_score\n",
    "    # r2_score(y, y_hat)\n",
    "    print(f\"The R2 value is {r2}\")"
   ]
  },
  {
   "cell_type": "code",
   "execution_count": 7,
   "id": "fc757042",
   "metadata": {},
   "outputs": [],
   "source": [
    "def eval_t_p_stats(results):\n",
    "    tt = results.t_test(np.eye(len(results.params)))        \n",
    "    ret_df = tt.summary_frame()\n",
    "    ret_df.index = results.pvalues.index\n",
    "    ret_df['pvalues']= results.pvalues\n",
    "    return ret_df"
   ]
  },
  {
   "cell_type": "code",
   "execution_count": 35,
   "id": "4c0bd952",
   "metadata": {},
   "outputs": [],
   "source": [
    "def eval_f_p_stats(results):\n",
    "#     ff = results.f_test(np.eye(len(results.params)))      \n",
    "    ff = results.f_test(np.identity(len(results.params))[1:,:])\n",
    "    \n",
    "    return ff"
   ]
  },
  {
   "cell_type": "code",
   "execution_count": 30,
   "id": "867d2ecf",
   "metadata": {},
   "outputs": [
    {
     "data": {
      "image/png": "[encoded data removed]",
      "text/plain": [
       "<Figure size 432x288 with 1 Axes>"
      ]
     },
     "metadata": {
      "needs_background": "light"
     },
     "output_type": "display_data"
    }
   ],
   "source": [
    "df_hat, ret, y = find_least_squares(data, feat_set1)"
   ]
  },
  {
   "cell_type": "code",
   "execution_count": 31,
   "id": "0c108d0b",
   "metadata": {},
   "outputs": [
    {
     "data": {
      "text/plain": [
       "LotArea            4.141095\n",
       "YearBuilt        143.007016\n",
       "YrSold          -190.564888\n",
       "GarageCars      2754.676296\n",
       "FullBath       15662.553783\n",
       "TotalBsmtSF       35.116538\n",
       "GarageArea        42.258271\n",
       "OverallQual    25413.392111\n",
       "dtype: float64"
      ]
     },
     "execution_count": 31,
     "metadata": {},
     "output_type": "execute_result"
    }
   ],
   "source": [
    "ret.params"
   ]
  },
  {
   "cell_type": "markdown",
   "id": "e8248208",
   "metadata": {},
   "source": [
    "2. R2 calc"
   ]
  },
  {
   "cell_type": "code",
   "execution_count": 32,
   "id": "cd7d4450",
   "metadata": {},
   "outputs": [
    {
     "name": "stdout",
     "output_type": "stream",
     "text": [
      "The R2 value is 0.7889640861998236\n"
     ]
    }
   ],
   "source": [
    "get_R2(df_hat, y)"
   ]
  },
  {
   "cell_type": "code",
   "execution_count": 33,
   "id": "74761585",
   "metadata": {},
   "outputs": [
    {
     "data": {
      "text/html": [
       "<div>\n",
       "<style scoped>\n",
       "    .dataframe tbody tr th:only-of-type {\n",
       "        vertical-align: middle;\n",
       "    }\n",
       "\n",
       "    .dataframe tbody tr th {\n",
       "        vertical-align: top;\n",
       "    }\n",
       "\n",
       "    .dataframe thead th {\n",
       "        text-align: right;\n",
       "    }\n",
       "</style>\n",
       "<table border=\"1\" class=\"dataframe\">\n",
       "  <thead>\n",
       "    <tr style=\"text-align: right;\">\n",
       "      <th></th>\n",
       "      <th>coef</th>\n",
       "      <th>std err</th>\n",
       "      <th>t</th>\n",
       "      <th>P&gt;|t|</th>\n",
       "      <th>Conf. Int. Low</th>\n",
       "      <th>Conf. Int. Upp.</th>\n",
       "      <th>pvalues</th>\n",
       "    </tr>\n",
       "  </thead>\n",
       "  <tbody>\n",
       "    <tr>\n",
       "      <th>LotArea</th>\n",
       "      <td>4.141095</td>\n",
       "      <td>0.342929</td>\n",
       "      <td>12.075665</td>\n",
       "      <td>6.214668e-32</td>\n",
       "      <td>3.468355</td>\n",
       "      <td>4.813836</td>\n",
       "      <td>6.214668e-32</td>\n",
       "    </tr>\n",
       "    <tr>\n",
       "      <th>YearBuilt</th>\n",
       "      <td>143.007016</td>\n",
       "      <td>40.818010</td>\n",
       "      <td>3.503527</td>\n",
       "      <td>4.743683e-04</td>\n",
       "      <td>62.932316</td>\n",
       "      <td>223.081716</td>\n",
       "      <td>4.743683e-04</td>\n",
       "    </tr>\n",
       "    <tr>\n",
       "      <th>YrSold</th>\n",
       "      <td>-190.564888</td>\n",
       "      <td>38.682549</td>\n",
       "      <td>-4.926379</td>\n",
       "      <td>9.428582e-07</td>\n",
       "      <td>-266.450349</td>\n",
       "      <td>-114.679427</td>\n",
       "      <td>9.428582e-07</td>\n",
       "    </tr>\n",
       "    <tr>\n",
       "      <th>GarageCars</th>\n",
       "      <td>2754.676296</td>\n",
       "      <td>2815.635052</td>\n",
       "      <td>0.978350</td>\n",
       "      <td>3.280792e-01</td>\n",
       "      <td>-2768.893638</td>\n",
       "      <td>8278.246229</td>\n",
       "      <td>3.280792e-01</td>\n",
       "    </tr>\n",
       "    <tr>\n",
       "      <th>FullBath</th>\n",
       "      <td>15662.553783</td>\n",
       "      <td>2126.366065</td>\n",
       "      <td>7.365878</td>\n",
       "      <td>3.076470e-13</td>\n",
       "      <td>11491.156764</td>\n",
       "      <td>19833.950802</td>\n",
       "      <td>3.076470e-13</td>\n",
       "    </tr>\n",
       "    <tr>\n",
       "      <th>TotalBsmtSF</th>\n",
       "      <td>35.116538</td>\n",
       "      <td>2.850450</td>\n",
       "      <td>12.319649</td>\n",
       "      <td>4.200429e-33</td>\n",
       "      <td>29.524670</td>\n",
       "      <td>40.708405</td>\n",
       "      <td>4.200429e-33</td>\n",
       "    </tr>\n",
       "    <tr>\n",
       "      <th>GarageArea</th>\n",
       "      <td>42.258271</td>\n",
       "      <td>9.743204</td>\n",
       "      <td>4.337205</td>\n",
       "      <td>1.552014e-05</td>\n",
       "      <td>23.144549</td>\n",
       "      <td>61.371993</td>\n",
       "      <td>1.552014e-05</td>\n",
       "    </tr>\n",
       "    <tr>\n",
       "      <th>OverallQual</th>\n",
       "      <td>25413.392111</td>\n",
       "      <td>1002.254033</td>\n",
       "      <td>25.356238</td>\n",
       "      <td>4.937619e-116</td>\n",
       "      <td>23447.221021</td>\n",
       "      <td>27379.563202</td>\n",
       "      <td>4.937619e-116</td>\n",
       "    </tr>\n",
       "  </tbody>\n",
       "</table>\n",
       "</div>"
      ],
      "text/plain": [
       "                     coef      std err          t          P>|t|  \\\n",
       "LotArea          4.141095     0.342929  12.075665   6.214668e-32   \n",
       "YearBuilt      143.007016    40.818010   3.503527   4.743683e-04   \n",
       "YrSold        -190.564888    38.682549  -4.926379   9.428582e-07   \n",
       "GarageCars    2754.676296  2815.635052   0.978350   3.280792e-01   \n",
       "FullBath     15662.553783  2126.366065   7.365878   3.076470e-13   \n",
       "TotalBsmtSF     35.116538     2.850450  12.319649   4.200429e-33   \n",
       "GarageArea      42.258271     9.743204   4.337205   1.552014e-05   \n",
       "OverallQual  25413.392111  1002.254033  25.356238  4.937619e-116   \n",
       "\n",
       "             Conf. Int. Low  Conf. Int. Upp.        pvalues  \n",
       "LotArea            3.468355         4.813836   6.214668e-32  \n",
       "YearBuilt         62.932316       223.081716   4.743683e-04  \n",
       "YrSold          -266.450349      -114.679427   9.428582e-07  \n",
       "GarageCars     -2768.893638      8278.246229   3.280792e-01  \n",
       "FullBath       11491.156764     19833.950802   3.076470e-13  \n",
       "TotalBsmtSF       29.524670        40.708405   4.200429e-33  \n",
       "GarageArea        23.144549        61.371993   1.552014e-05  \n",
       "OverallQual    23447.221021     27379.563202  4.937619e-116  "
      ]
     },
     "execution_count": 33,
     "metadata": {},
     "output_type": "execute_result"
    }
   ],
   "source": [
    "eval_t_p_stats(ret)"
   ]
  },
  {
   "cell_type": "code",
   "execution_count": 36,
   "id": "1e800b86",
   "metadata": {},
   "outputs": [
    {
     "data": {
      "text/plain": [
       "<class 'statsmodels.stats.contrast.ContrastResults'>\n",
       "<F test: F=array([[661.04239826]]), p=0.0, df_denom=1.33e+03, df_num=7>"
      ]
     },
     "execution_count": 36,
     "metadata": {},
     "output_type": "execute_result"
    }
   ],
   "source": [
    "eval_f_p_stats(ret)"
   ]
  },
  {
   "cell_type": "markdown",
   "id": "7d2c3145",
   "metadata": {},
   "source": [
    "We can see that all but c3 far exceed quntails 0.025 and 0.975, generating strong evidance against the $H_0$. \n",
    "As for c3, we cannot reject $H_0$"
   ]
  },
  {
   "cell_type": "code",
   "execution_count": 13,
   "id": "acc88136",
   "metadata": {},
   "outputs": [
    {
     "data": {
      "image/png": "[encoded data removed]",
      "text/plain": [
       "<Figure size 432x288 with 1 Axes>"
      ]
     },
     "metadata": {
      "needs_background": "light"
     },
     "output_type": "display_data"
    },
    {
     "name": "stdout",
     "output_type": "stream",
     "text": [
      "The R2 value is 0.47551990482267337\n"
     ]
    },
    {
     "data": {
      "text/html": [
       "<div>\n",
       "<style scoped>\n",
       "    .dataframe tbody tr th:only-of-type {\n",
       "        vertical-align: middle;\n",
       "    }\n",
       "\n",
       "    .dataframe tbody tr th {\n",
       "        vertical-align: top;\n",
       "    }\n",
       "\n",
       "    .dataframe thead th {\n",
       "        text-align: right;\n",
       "    }\n",
       "</style>\n",
       "<table border=\"1\" class=\"dataframe\">\n",
       "  <thead>\n",
       "    <tr style=\"text-align: right;\">\n",
       "      <th></th>\n",
       "      <th>coef</th>\n",
       "      <th>std err</th>\n",
       "      <th>t</th>\n",
       "      <th>P&gt;|t|</th>\n",
       "      <th>Conf. Int. Low</th>\n",
       "      <th>Conf. Int. Upp.</th>\n",
       "      <th>pvalues</th>\n",
       "    </tr>\n",
       "  </thead>\n",
       "  <tbody>\n",
       "    <tr>\n",
       "      <th>LotArea</th>\n",
       "      <td>9.070080</td>\n",
       "      <td>0.490408</td>\n",
       "      <td>18.494965</td>\n",
       "      <td>3.589150e-68</td>\n",
       "      <td>8.108026</td>\n",
       "      <td>10.032135</td>\n",
       "      <td>3.589150e-68</td>\n",
       "    </tr>\n",
       "    <tr>\n",
       "      <th>YearBuilt</th>\n",
       "      <td>1297.091457</td>\n",
       "      <td>47.188728</td>\n",
       "      <td>27.487315</td>\n",
       "      <td>3.499604e-132</td>\n",
       "      <td>1204.519320</td>\n",
       "      <td>1389.663593</td>\n",
       "      <td>3.499604e-132</td>\n",
       "    </tr>\n",
       "    <tr>\n",
       "      <th>YrSold</th>\n",
       "      <td>-1226.791325</td>\n",
       "      <td>46.170185</td>\n",
       "      <td>-26.571072</td>\n",
       "      <td>3.194864e-125</td>\n",
       "      <td>-1317.365342</td>\n",
       "      <td>-1136.217308</td>\n",
       "      <td>3.194864e-125</td>\n",
       "    </tr>\n",
       "  </tbody>\n",
       "</table>\n",
       "</div>"
      ],
      "text/plain": [
       "                  coef    std err          t          P>|t|  Conf. Int. Low  \\\n",
       "LotArea       9.070080   0.490408  18.494965   3.589150e-68        8.108026   \n",
       "YearBuilt  1297.091457  47.188728  27.487315  3.499604e-132     1204.519320   \n",
       "YrSold    -1226.791325  46.170185 -26.571072  3.194864e-125    -1317.365342   \n",
       "\n",
       "           Conf. Int. Upp.        pvalues  \n",
       "LotArea          10.032135   3.589150e-68  \n",
       "YearBuilt      1389.663593  3.499604e-132  \n",
       "YrSold        -1136.217308  3.194864e-125  "
      ]
     },
     "execution_count": 13,
     "metadata": {},
     "output_type": "execute_result"
    }
   ],
   "source": [
    "df_hat_smaller, ret_smaller, y = find_least_squares(data, feat_set_smaller)\n",
    "get_R2(df_hat_smaller, y)\n",
    "eval_t_p_stats(ret_smaller)"
   ]
  },
  {
   "cell_type": "code",
   "execution_count": 37,
   "id": "04a8c5b6",
   "metadata": {},
   "outputs": [
    {
     "data": {
      "text/plain": [
       "<class 'statsmodels.stats.contrast.ContrastResults'>\n",
       "<F test: F=array([[535.52935436]]), p=1.7252139113850912e-171, df_denom=1.34e+03, df_num=2>"
      ]
     },
     "execution_count": 37,
     "metadata": {},
     "output_type": "execute_result"
    }
   ],
   "source": [
    "eval_f_p_stats(ret_smaller)"
   ]
  },
  {
   "cell_type": "markdown",
   "id": "1a2ac4a5",
   "metadata": {},
   "source": [
    "From the R2 values we can see the model fit is not as good as the former, larger model (0.47 < 0.78)."
   ]
  }
 ],
 "metadata": {
  "kernelspec": {
   "display_name": "Python 3 (ipykernel)",
   "language": "python",
   "name": "python3"
  },
  "language_info": {
   "codemirror_mode": {
    "name": "ipython",
    "version": 3
   },
   "file_extension": ".py",
   "mimetype": "text/x-python",
   "name": "python",
   "nbconvert_exporter": "python",
   "pygments_lexer": "ipython3",
   "version": "3.8.12"
  }
 },
 "nbformat": 4,
 "nbformat_minor": 5
}
